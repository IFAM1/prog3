{
 "cells": [
  {
   "cell_type": "markdown",
   "metadata": {
    "id": "yno8b0Om6-ZL"
   },
   "source": [
    "#Titulo"
   ]
  },
  {
   "cell_type": "markdown",
   "metadata": {
    "id": "7MaMSbVw7oRc"
   },
   "source": [
    "#Logica de programacion python"
   ]
  },
  {
   "cell_type": "code",
   "execution_count": null,
   "metadata": {
    "colab": {
     "base_uri": "https://localhost:8080/",
     "height": 35
    },
    "id": "bPjyliul78es",
    "outputId": "77958593-130e-4c66-8fa2-cefe61aebd9d"
   },
   "outputs": [
    {
     "data": {
      "application/vnd.google.colaboratory.intrinsic+json": {
       "type": "string"
      },
      "text/plain": [
       "'Isai'"
      ]
     },
     "execution_count": 4,
     "metadata": {},
     "output_type": "execute_result"
    }
   ],
   "source": [
    "'Isai'"
   ]
  },
  {
   "cell_type": "code",
   "execution_count": null,
   "metadata": {
    "id": "WJiy9wkk85q0"
   },
   "outputs": [],
   "source": [
    "nombre='Isai'"
   ]
  },
  {
   "cell_type": "code",
   "execution_count": null,
   "metadata": {
    "colab": {
     "base_uri": "https://localhost:8080/",
     "height": 35
    },
    "id": "lTP8h0HM9JCf",
    "outputId": "52ce179f-e906-4ea9-acf1-4d5b543f288e"
   },
   "outputs": [
    {
     "data": {
      "application/vnd.google.colaboratory.intrinsic+json": {
       "type": "string"
      },
      "text/plain": [
       "'Isai'"
      ]
     },
     "execution_count": 6,
     "metadata": {},
     "output_type": "execute_result"
    }
   ],
   "source": [
    "nombre"
   ]
  },
  {
   "cell_type": "code",
   "execution_count": null,
   "metadata": {
    "colab": {
     "base_uri": "https://localhost:8080/"
    },
    "id": "alfRHvOI9QqJ",
    "outputId": "c516d01f-50eb-498e-cdc6-5295dff61e2a"
   },
   "outputs": [
    {
     "data": {
      "text/plain": [
       "20"
      ]
     },
     "execution_count": 14,
     "metadata": {},
     "output_type": "execute_result"
    }
   ],
   "source": [
    "edad=20\n",
    "edad"
   ]
  },
  {
   "cell_type": "code",
   "execution_count": null,
   "metadata": {
    "colab": {
     "base_uri": "https://localhost:8080/"
    },
    "id": "ZKmrDsFh9cW9",
    "outputId": "4c5100fa-29c3-4394-e9e2-904c6cc32e04"
   },
   "outputs": [
    {
     "name": "stdout",
     "output_type": "stream",
     "text": [
      "el nombre es Isai y su edad es 21 años.\n"
     ]
    }
   ],
   "source": [
    "print(f'el nombre es {nombre} y su edad es {edad} años.')"
   ]
  },
  {
   "cell_type": "code",
   "execution_count": null,
   "metadata": {
    "colab": {
     "base_uri": "https://localhost:8080/"
    },
    "id": "isx-VGbA-Zac",
    "outputId": "eca0a26c-5e60-48b7-a0fe-cb9fd3e7d375"
   },
   "outputs": [
    {
     "name": "stdout",
     "output_type": "stream",
     "text": [
      "el nombre es Isai y su edad es 20 años.\n"
     ]
    }
   ],
   "source": [
    "print(f'el nombre es {nombre} y su edad es {edad} años.')"
   ]
  },
  {
   "cell_type": "markdown",
   "metadata": {
    "id": "HYxsHXSe-iL6"
   },
   "source": [
    "#Creando mi primera funcion"
   ]
  },
  {
   "cell_type": "code",
   "execution_count": null,
   "metadata": {
    "id": "0apLW3XR-mDv"
   },
   "outputs": [],
   "source": [
    "def saludos():\n",
    "  nombre = input('¿Cual es su nombre? ')\n",
    "  print(f'Hola {nombre}')"
   ]
  },
  {
   "cell_type": "code",
   "execution_count": null,
   "metadata": {
    "colab": {
     "base_uri": "https://localhost:8080/"
    },
    "id": "K6zxOos4_7Fu",
    "outputId": "27057aac-41ab-4b7f-983a-5b9289f31fd6"
   },
   "outputs": [
    {
     "name": "stdout",
     "output_type": "stream",
     "text": [
      "¿Cual es su nombre? Felipe\n",
      "Hola Felipe\n"
     ]
    }
   ],
   "source": [
    "saludos()"
   ]
  },
  {
   "cell_type": "markdown",
   "metadata": {
    "id": "W-T7Gkl-Ate-"
   },
   "source": [
    "#Parametros"
   ]
  },
  {
   "cell_type": "code",
   "execution_count": null,
   "metadata": {
    "id": "dPPrQFgSAw--"
   },
   "outputs": [],
   "source": [
    "nombre = 'Juan'"
   ]
  },
  {
   "cell_type": "code",
   "execution_count": null,
   "metadata": {
    "id": "puUVMQXMA4He"
   },
   "outputs": [],
   "source": [
    "def saludos_con_parametros(nombre_de_la_persona):\n",
    "  print(f'Hola {nombre_de_la_persona}')"
   ]
  },
  {
   "cell_type": "code",
   "execution_count": null,
   "metadata": {
    "colab": {
     "base_uri": "https://localhost:8080/"
    },
    "id": "RxcJwKOVBQuJ",
    "outputId": "8e96c81f-d916-4e86-b4ad-24cd1fd4abf6"
   },
   "outputs": [
    {
     "name": "stdout",
     "output_type": "stream",
     "text": [
      "Hola Juan\n"
     ]
    }
   ],
   "source": [
    "saludos_con_parametros(nombre)"
   ]
  },
  {
   "cell_type": "markdown",
   "metadata": {
    "id": "5KquC5ydBcsP"
   },
   "source": [
    "#Condicional"
   ]
  },
  {
   "cell_type": "code",
   "execution_count": null,
   "metadata": {
    "colab": {
     "base_uri": "https://localhost:8080/"
    },
    "id": "SwBA8BDeBehq",
    "outputId": "2215936b-b0b1-43ff-b8f6-b956f574edb0"
   },
   "outputs": [
    {
     "name": "stdout",
     "output_type": "stream",
     "text": [
      "Tiene autorizacion para conducir\n"
     ]
    }
   ],
   "source": [
    "edad = 21\n",
    "\n",
    "def verifica_si_puede_conducir(edad):\n",
    "  if edad >=18:\n",
    "    print('Tiene autorizacion para conducir')\n",
    "  else:\n",
    "    print('No tiene autorizacion para conducir')\n",
    "\n",
    "verifica_si_puede_conducir(edad)"
   ]
  },
  {
   "cell_type": "markdown",
   "metadata": {
    "id": "78HwOaZECqoV"
   },
   "source": [
    "#Convirtiendo a tipo entero"
   ]
  },
  {
   "cell_type": "code",
   "execution_count": null,
   "metadata": {
    "colab": {
     "base_uri": "https://localhost:8080/"
    },
    "id": "M7cq3gECCuNr",
    "outputId": "a117e1b2-1c6a-43ea-c1d2-16e055b3b776"
   },
   "outputs": [
    {
     "name": "stdout",
     "output_type": "stream",
     "text": [
      "¿Cual es su Edad? 21\n",
      "Tiene autorizacion para conducir\n"
     ]
    }
   ],
   "source": [
    "def verifica_si_puede_conducir_sin_parametros():\n",
    "  edad = input('¿Cual es su Edad? ')\n",
    "  edad = int(edad)\n",
    "  if edad >=18:\n",
    "    print('Tiene autorizacion para conducir')\n",
    "  else:\n",
    "    print('No tiene autorizacion para conducir')\n",
    "\n",
    "verifica_si_puede_conducir_sin_parametros()"
   ]
  },
  {
   "cell_type": "markdown",
   "metadata": {
    "id": "lCQbK_caEMOu"
   },
   "source": [
    "#Lista"
   ]
  },
  {
   "cell_type": "code",
   "execution_count": null,
   "metadata": {
    "colab": {
     "base_uri": "https://localhost:8080/"
    },
    "id": "WcIrTV1pEOUW",
    "outputId": "947c476f-42c8-4a50-e28c-fa2e8e48e948"
   },
   "outputs": [
    {
     "data": {
      "text/plain": [
       "21"
      ]
     },
     "execution_count": 36,
     "metadata": {},
     "output_type": "execute_result"
    }
   ],
   "source": [
    "edad = 21 # en python acepta cualquier dato\n",
    "edad"
   ]
  },
  {
   "cell_type": "code",
   "execution_count": null,
   "metadata": {
    "colab": {
     "base_uri": "https://localhost:8080/"
    },
    "id": "436zf8icFcYP",
    "outputId": "4854839b-6a6f-4cb7-d17a-6e6c2eb6e287"
   },
   "outputs": [
    {
     "data": {
      "text/plain": [
       "int"
      ]
     },
     "execution_count": 37,
     "metadata": {},
     "output_type": "execute_result"
    }
   ],
   "source": [
    "type(edad)"
   ]
  },
  {
   "cell_type": "code",
   "execution_count": null,
   "metadata": {
    "colab": {
     "base_uri": "https://localhost:8080/"
    },
    "id": "lQEA3gtjFkkA",
    "outputId": "110cde95-c596-41af-cc65-4016f1bbff39"
   },
   "outputs": [
    {
     "data": {
      "text/plain": [
       "str"
      ]
     },
     "execution_count": 38,
     "metadata": {},
     "output_type": "execute_result"
    }
   ],
   "source": [
    "nombre = 'Mauricio'\n",
    "type(nombre)"
   ]
  },
  {
   "cell_type": "code",
   "execution_count": null,
   "metadata": {
    "colab": {
     "base_uri": "https://localhost:8080/"
    },
    "id": "RjCvDejhGq9A",
    "outputId": "4d4c2278-67a0-4f1f-e2f6-cf5416029164"
   },
   "outputs": [
    {
     "data": {
      "text/plain": [
       "list"
      ]
     },
     "execution_count": 39,
     "metadata": {},
     "output_type": "execute_result"
    }
   ],
   "source": [
    "edades = [18, 22, 15, 50]\n",
    "type(edades)"
   ]
  },
  {
   "cell_type": "code",
   "execution_count": null,
   "metadata": {
    "colab": {
     "base_uri": "https://localhost:8080/"
    },
    "id": "cqffMSkCHA-C",
    "outputId": "33d0be6c-3511-48d5-f7cf-f1aec4090d3f"
   },
   "outputs": [
    {
     "data": {
      "text/plain": [
       "15"
      ]
     },
     "execution_count": 42,
     "metadata": {},
     "output_type": "execute_result"
    }
   ],
   "source": [
    "edades[2]"
   ]
  },
  {
   "cell_type": "code",
   "execution_count": null,
   "metadata": {
    "id": "p1P0E9M1HROr"
   },
   "outputs": [],
   "source": [
    "edades = [18, 22, 15, 50]\n",
    "#         0   1   2   3\n",
    "#         0  -3  -2  -1"
   ]
  },
  {
   "cell_type": "code",
   "execution_count": null,
   "metadata": {
    "colab": {
     "base_uri": "https://localhost:8080/"
    },
    "id": "mgZZfUx8H4qI",
    "outputId": "9bcc7947-6176-4695-b41c-a3dda4f43547"
   },
   "outputs": [
    {
     "data": {
      "text/plain": [
       "22"
      ]
     },
     "execution_count": 45,
     "metadata": {},
     "output_type": "execute_result"
    }
   ],
   "source": [
    "edades[-3]"
   ]
  },
  {
   "cell_type": "code",
   "execution_count": null,
   "metadata": {
    "colab": {
     "base_uri": "https://localhost:8080/"
    },
    "id": "euBmtv74IEPa",
    "outputId": "0976f854-a078-4598-da6f-0c0b3057817a"
   },
   "outputs": [
    {
     "data": {
      "text/plain": [
       "[18, 22, 15]"
      ]
     },
     "execution_count": 46,
     "metadata": {},
     "output_type": "execute_result"
    }
   ],
   "source": [
    "edades[0:3] # IMPRIME DESDE LA POSICION 0  Y ELIJE 3 ELEMENTOS"
   ]
  },
  {
   "cell_type": "code",
   "execution_count": null,
   "metadata": {
    "colab": {
     "base_uri": "https://localhost:8080/"
    },
    "id": "PX8pTlVzIeOF",
    "outputId": "88564659-9b3a-4013-9225-10b69998814b"
   },
   "outputs": [
    {
     "data": {
      "text/plain": [
       "[15, 50]"
      ]
     },
     "execution_count": 48,
     "metadata": {},
     "output_type": "execute_result"
    }
   ],
   "source": [
    "edades[2:]"
   ]
  },
  {
   "cell_type": "code",
   "execution_count": null,
   "metadata": {
    "colab": {
     "base_uri": "https://localhost:8080/"
    },
    "id": "7dGuNt5wI1jf",
    "outputId": "097fdfed-ff0b-4348-8058-860a1a0bb859"
   },
   "outputs": [
    {
     "data": {
      "text/plain": [
       "50"
      ]
     },
     "execution_count": 49,
     "metadata": {},
     "output_type": "execute_result"
    }
   ],
   "source": [
    "edades[-1]"
   ]
  },
  {
   "cell_type": "code",
   "execution_count": null,
   "metadata": {
    "colab": {
     "base_uri": "https://localhost:8080/"
    },
    "id": "UdQXcK46I9IB",
    "outputId": "96b471d2-aaef-48bc-98da-bf5b6900997d"
   },
   "outputs": [
    {
     "data": {
      "text/plain": [
       "15"
      ]
     },
     "execution_count": 50,
     "metadata": {},
     "output_type": "execute_result"
    }
   ],
   "source": [
    "edades[-2]"
   ]
  },
  {
   "cell_type": "markdown",
   "metadata": {
    "id": "MckpWMjYJAOt"
   },
   "source": [
    "#Lazos y loops"
   ]
  },
  {
   "cell_type": "code",
   "execution_count": null,
   "metadata": {
    "colab": {
     "base_uri": "https://localhost:8080/"
    },
    "id": "7IKWIQW-JEFY",
    "outputId": "1c02b3d7-2227-4fc5-c879-1ae5f39bf7b9"
   },
   "outputs": [
    {
     "data": {
      "text/plain": [
       "[18, 22, 15, 50]"
      ]
     },
     "execution_count": 51,
     "metadata": {},
     "output_type": "execute_result"
    }
   ],
   "source": [
    "edades"
   ]
  },
  {
   "cell_type": "code",
   "execution_count": null,
   "metadata": {
    "colab": {
     "base_uri": "https://localhost:8080/"
    },
    "id": "xsaaCeIgJKBx",
    "outputId": "26b92a52-32a7-4730-b672-920f6e86c462"
   },
   "outputs": [
    {
     "name": "stdout",
     "output_type": "stream",
     "text": [
      "18 años de edad, TIENE autorizacion para conducir\n",
      "22 años de edad, TIENE autorizacion para conducir\n",
      "15 años de edad, NO TIENE autorizacion para conducir\n",
      "50 años de edad, TIENE autorizacion para conducir\n"
     ]
    }
   ],
   "source": [
    "# for fuera de la funcion\n",
    "\n",
    "def verifica_si_puede_conducir(edad):\n",
    "  if edad >=18:\n",
    "    print(f'{edad} años de edad, TIENE autorizacion para conducir')\n",
    "  else:\n",
    "    print(f'{edad} años de edad, NO TIENE autorizacion para conducir')\n",
    "\n",
    "for edad in edades:\n",
    "  verifica_si_puede_conducir(edad)"
   ]
  },
  {
   "cell_type": "code",
   "execution_count": null,
   "metadata": {
    "colab": {
     "base_uri": "https://localhost:8080/"
    },
    "id": "vvC6A50DKNsZ",
    "outputId": "1aad6002-f035-4860-e729-6f45aded2ea1"
   },
   "outputs": [
    {
     "name": "stdout",
     "output_type": "stream",
     "text": [
      "18 años de edad, TIENE autorizacion para conducir\n",
      "22 años de edad, TIENE autorizacion para conducir\n",
      "15 años de edad, NO TIENE autorizacion para conducir\n",
      "50 años de edad, TIENE autorizacion para conducir\n"
     ]
    }
   ],
   "source": [
    "# for dentro de la funcion\n",
    "def verifica_si_puede_conducir(edades):\n",
    "  for edad in edades:\n",
    "    if edad >=18:\n",
    "     print(f'{edad} años de edad, TIENE autorizacion para conducir')\n",
    "    else:\n",
    "     print(f'{edad} años de edad, NO TIENE autorizacion para conducir')\n",
    "\n",
    "verifica_si_puede_conducir(edades)"
   ]
  },
  {
   "cell_type": "markdown",
   "metadata": {
    "id": "zAxegy63Mlr-"
   },
   "source": [
    "#Booleano"
   ]
  },
  {
   "cell_type": "code",
   "execution_count": null,
   "metadata": {
    "colab": {
     "base_uri": "https://localhost:8080/"
    },
    "id": "R2CrZt4eMoc6",
    "outputId": "b4e3d4ab-baff-4b6b-a9f6-ff26a038a19b"
   },
   "outputs": [
    {
     "data": {
      "text/plain": [
       "True"
      ]
     },
     "execution_count": 57,
     "metadata": {},
     "output_type": "execute_result"
    }
   ],
   "source": [
    "edad = 18\n",
    "edad >=18"
   ]
  },
  {
   "cell_type": "code",
   "execution_count": null,
   "metadata": {
    "colab": {
     "base_uri": "https://localhost:8080/"
    },
    "id": "QRTVL4fXMwRs",
    "outputId": "a07e2f64-5eb2-4df1-a31a-488ff95a9b4c"
   },
   "outputs": [
    {
     "data": {
      "text/plain": [
       "False"
      ]
     },
     "execution_count": 58,
     "metadata": {},
     "output_type": "execute_result"
    }
   ],
   "source": [
    "edad = 15\n",
    "edad >= 18"
   ]
  },
  {
   "cell_type": "code",
   "execution_count": null,
   "metadata": {
    "id": "q4Je0FQRM4rd"
   },
   "outputs": [],
   "source": [
    "autorizaciones = []\n",
    "edades = [20, 14, 40]\n",
    "\n",
    "def verifica_si_puede_conducir(edades, autorizaciones):\n",
    "  for edad in edades:\n",
    "    if edad >=18:\n",
    "      autorizaciones.append(True)\n",
    "    else:\n",
    "      autorizaciones.append(False)\n",
    "\n",
    "verifica_si_puede_conducir(edades, autorizaciones)"
   ]
  },
  {
   "cell_type": "code",
   "execution_count": null,
   "metadata": {
    "colab": {
     "base_uri": "https://localhost:8080/"
    },
    "id": "MHwErlBWN81S",
    "outputId": "f8db6933-26ab-430d-c573-f04af3cc3799"
   },
   "outputs": [
    {
     "data": {
      "text/plain": [
       "[True, False, True]"
      ]
     },
     "execution_count": 60,
     "metadata": {},
     "output_type": "execute_result"
    }
   ],
   "source": [
    "autorizaciones"
   ]
  },
  {
   "cell_type": "code",
   "execution_count": null,
   "metadata": {
    "colab": {
     "base_uri": "https://localhost:8080/"
    },
    "id": "Twp5n5fCOI9l",
    "outputId": "25ac3197-c5d1-4564-9c74-e5eca11f20f2"
   },
   "outputs": [
    {
     "name": "stdout",
     "output_type": "stream",
     "text": [
      "TIENE autorizacion para conducir\n",
      "NO TIENE autorizacion para conducir\n",
      "TIENE autorizacion para conducir\n"
     ]
    }
   ],
   "source": [
    "for autorizacion in autorizaciones:\n",
    "  if autorizacion == True:         # is o == python lo acepta\n",
    "    print('TIENE autorizacion para conducir')\n",
    "  else:\n",
    "    print('NO TIENE autorizacion para conducir')"
   ]
  },
  {
   "cell_type": "markdown",
   "metadata": {
    "id": "NL9PofRRPQH3"
   },
   "source": [
    "#Tipos en una lista"
   ]
  },
  {
   "cell_type": "code",
   "execution_count": null,
   "metadata": {
    "colab": {
     "base_uri": "https://localhost:8080/"
    },
    "id": "NtD-m6FsPTT2",
    "outputId": "92d93608-f4be-4be3-cc8d-1df9b449075c"
   },
   "outputs": [
    {
     "name": "stdout",
     "output_type": "stream",
     "text": [
      "El elemento Mauricio es del tipo:  <class 'str'>\n",
      "El elemento 28 es del tipo:  <class 'int'>\n",
      "El elemento True es del tipo:  <class 'bool'>\n",
      "El elemento 18 es del tipo:  <class 'str'>\n"
     ]
    }
   ],
   "source": [
    "lista = ['Mauricio', 28, True ,'18']\n",
    "\n",
    "for elemento in lista:\n",
    "  print(f'El elemento {elemento} es del tipo: ', type(elemento))"
   ]
  },
  {
   "cell_type": "markdown",
   "metadata": {
    "id": "ACr3m3xPQT1w"
   },
   "source": [
    "#Import\n"
   ]
  },
  {
   "cell_type": "code",
   "execution_count": null,
   "metadata": {
    "id": "AvoRlTUGQWeN"
   },
   "outputs": [],
   "source": [
    "from random import randrange, seed"
   ]
  },
  {
   "cell_type": "code",
   "execution_count": null,
   "metadata": {
    "id": "D2tB8fPUQoTI"
   },
   "outputs": [],
   "source": [
    "seed(11)"
   ]
  },
  {
   "cell_type": "code",
   "execution_count": null,
   "metadata": {
    "colab": {
     "base_uri": "https://localhost:8080/"
    },
    "id": "CXQTMaSeQqSY",
    "outputId": "7041b7bc-3ef8-472d-ac27-ddfa3d9906a6"
   },
   "outputs": [
    {
     "data": {
      "text/plain": [
       "7"
      ]
     },
     "execution_count": 76,
     "metadata": {},
     "output_type": "execute_result"
    }
   ],
   "source": [
    "randrange(0,11)"
   ]
  },
  {
   "cell_type": "code",
   "execution_count": null,
   "metadata": {
    "colab": {
     "base_uri": "https://localhost:8080/"
    },
    "id": "q6CFJfWcQvCA",
    "outputId": "2257f747-51ba-4366-947f-1fc5aa772e90"
   },
   "outputs": [
    {
     "data": {
      "text/plain": [
       "[10, 9, 2, 1, 7, 4, 2, 1]"
      ]
     },
     "execution_count": 77,
     "metadata": {},
     "output_type": "execute_result"
    }
   ],
   "source": [
    "notas_matematica = []\n",
    "\n",
    "for notas in range(8):\n",
    "  notas_matematica.append(randrange(0,11))\n",
    "\n",
    "notas_matematica"
   ]
  },
  {
   "cell_type": "code",
   "execution_count": null,
   "metadata": {
    "colab": {
     "base_uri": "https://localhost:8080/"
    },
    "id": "_P1mOXVBRufZ",
    "outputId": "fc17a55f-10be-46e3-c9b5-c2f1a95918c8"
   },
   "outputs": [
    {
     "data": {
      "text/plain": [
       "8"
      ]
     },
     "execution_count": 79,
     "metadata": {},
     "output_type": "execute_result"
    }
   ],
   "source": [
    "len(notas_matematica)                  # esto es para saber cuantos elmentos tiene la lista"
   ]
  },
  {
   "cell_type": "markdown",
   "metadata": {
    "id": "5ny5us9zSwY-"
   },
   "source": [
    "#Matplotlib"
   ]
  },
  {
   "cell_type": "code",
   "execution_count": null,
   "metadata": {
    "id": "wBqPsB9JS0lu"
   },
   "outputs": [],
   "source": [
    "import matplotlib.pyplot as plt            # import es pára importar , y matplotlib.pyplot es la libreria , y as es para poner un nombre o alias (plt)"
   ]
  },
  {
   "cell_type": "code",
   "execution_count": null,
   "metadata": {
    "colab": {
     "base_uri": "https://localhost:8080/",
     "height": 472
    },
    "id": "fzZwyoevS_xx",
    "outputId": "a6a27a67-a3f6-463f-fd67-218692dd4669"
   },
   "outputs": [
    {
     "data": {
      "image/png": "[encoded data removed]",
      "text/plain": [
       "<Figure size 640x480 with 1 Axes>"
      ]
     },
     "metadata": {},
     "output_type": "display_data"
    }
   ],
   "source": [
    "x = list(range(1, 9))\n",
    "y = notas_matematica\n",
    "plt.plot(x, y, marker='o')\n",
    "plt.title('Notas de matematica')\n",
    "plt.xlabel('Examenes')\n",
    "plt.ylabel('Notas')\n",
    "plt.show()"
   ]
  },
  {
   "cell_type": "code",
   "execution_count": null,
   "metadata": {
    "colab": {
     "base_uri": "https://localhost:8080/"
    },
    "id": "wLOKp6euUEE4",
    "outputId": "bef2e9d0-9dde-4774-de6e-ae01c4a188c4"
   },
   "outputs": [
    {
     "data": {
      "text/plain": [
       "[10, 9, 2, 1, 7, 4, 2, 1]"
      ]
     },
     "execution_count": 84,
     "metadata": {},
     "output_type": "execute_result"
    }
   ],
   "source": [
    "notas_matematica"
   ]
  },
  {
   "cell_type": "code",
   "execution_count": null,
   "metadata": {
    "colab": {
     "base_uri": "https://localhost:8080/"
    },
    "id": "MRKPZU0JU-08",
    "outputId": "5ca04f2c-ef78-4ed3-cdf1-c9f03286c0ea"
   },
   "outputs": [
    {
     "name": "stdout",
     "output_type": "stream",
     "text": [
      "Hola Mundo\n"
     ]
    }
   ],
   "source": [
    "print('Hola Mundo')"
   ]
  },
  {
   "cell_type": "code",
   "execution_count": null,
   "metadata": {
    "colab": {
     "base_uri": "https://localhost:8080/"
    },
    "id": "0neT0PDqCaLH",
    "outputId": "1bcf5310-626d-4e33-a138-4ca437319ac1"
   },
   "outputs": [
    {
     "name": "stdout",
     "output_type": "stream",
     "text": [
      "\n",
      "Welcome to Python 3.10's help utility!\n",
      "\n",
      "If this is your first time using Python, you should definitely check out\n",
      "the tutorial on the internet at https://docs.python.org/3.10/tutorial/.\n",
      "\n",
      "Enter the name of any module, keyword, or topic to get help on writing\n",
      "Python programs and using Python modules.  To quit this help utility and\n",
      "return to the interpreter, just type \"quit\".\n",
      "\n",
      "To get a list of available modules, keywords, symbols, or topics, type\n",
      "\"modules\", \"keywords\", \"symbols\", or \"topics\".  Each module also comes\n",
      "with a one-line summary of what it does; to list the modules whose name\n",
      "or summary contain a given string such as \"spam\", type \"modules spam\".\n",
      "\n",
      "\n",
      "You are now leaving help and returning to the Python interpreter.\n",
      "If you want to ask for help on a particular object directly from the\n",
      "interpreter, you can type \"help(object)\".  Executing \"help('string')\"\n",
      "has the same effect as typing a particular string at the help> prompt.\n"
     ]
    }
   ],
   "source": [
    "help()"
   ]
  },
  {
   "cell_type": "code",
   "execution_count": null,
   "metadata": {
    "colab": {
     "base_uri": "https://localhost:8080/"
    },
    "id": "PQJn52mrDCRK",
    "outputId": "016ad8bf-6f42-465c-fcc6-02c4078d8cee"
   },
   "outputs": [
    {
     "name": "stdout",
     "output_type": "stream",
     "text": [
      "Brasil gano 5 titulos mundiales de futbol\n"
     ]
    }
   ],
   "source": [
    "print('Brasil gano 5 titulos mundiales de futbol',sep='')"
   ]
  },
  {
   "cell_type": "code",
   "execution_count": null,
   "metadata": {
    "colab": {
     "base_uri": "https://localhost:8080/"
    },
    "id": "BDSUBoMGDWHn",
    "outputId": "2980bbc2-1762-4cf2-9d5f-8640fbe5c913"
   },
   "outputs": [
    {
     "name": "stdout",
     "output_type": "stream",
     "text": [
      "Brasil_gano_5_titulos mundiales_de futbol\n"
     ]
    }
   ],
   "source": [
    "print('Brasil','gano',5,'titulos mundiales','de futbol',sep='_')"
   ]
  },
  {
   "cell_type": "code",
   "execution_count": null,
   "metadata": {
    "colab": {
     "base_uri": "https://localhost:8080/"
    },
    "id": "yvzsL9LKDmqv",
    "outputId": "1e27e57c-e562-4560-f5cd-0a1ad1818584"
   },
   "outputs": [
    {
     "name": "stdout",
     "output_type": "stream",
     "text": [
      "Brasil gano 5 titulos mundiales de futbol\n"
     ]
    }
   ],
   "source": [
    "print('Brasil','gano',5,'titulos mundiales','de futbol',end='\\n')"
   ]
  },
  {
   "cell_type": "code",
   "execution_count": null,
   "metadata": {
    "colab": {
     "base_uri": "https://localhost:8080/"
    },
    "id": "uFJFwArrEZlt",
    "outputId": "bb57b596-a816-4e17-eec7-0be819485645"
   },
   "outputs": [
    {
     "name": "stdout",
     "output_type": "stream",
     "text": [
      "Brasil gano 5 titulos mundiales de futbol"
     ]
    }
   ],
   "source": [
    "print('Brasil','gano',5,'titulos mundiales','de futbol',end='')"
   ]
  },
  {
   "cell_type": "code",
   "execution_count": null,
   "metadata": {
    "colab": {
     "base_uri": "https://localhost:8080/"
    },
    "id": "izdp4ZN4El-D",
    "outputId": "f9f8b56f-b508-4cd5-eb4c-4330a2443e41"
   },
   "outputs": [
    {
     "data": {
      "text/plain": [
       "str"
      ]
     },
     "execution_count": 8,
     "metadata": {},
     "output_type": "execute_result"
    }
   ],
   "source": [
    "pais='Italia'\n",
    "type(pais)"
   ]
  },
  {
   "cell_type": "code",
   "execution_count": null,
   "metadata": {
    "colab": {
     "base_uri": "https://localhost:8080/"
    },
    "id": "CS7bcTFIEsQb",
    "outputId": "d90204a0-411f-4edf-a7cc-b72713730b8f"
   },
   "outputs": [
    {
     "data": {
      "text/plain": [
       "int"
      ]
     },
     "execution_count": 15,
     "metadata": {},
     "output_type": "execute_result"
    }
   ],
   "source": [
    "cantidad=4\n",
    "type(cantidad)"
   ]
  },
  {
   "cell_type": "code",
   "execution_count": null,
   "metadata": {
    "colab": {
     "base_uri": "https://localhost:8080/"
    },
    "id": "Kltmd-d4Ez2D",
    "outputId": "272fb66f-3d7e-4b7b-ad5d-cb8191b02aef"
   },
   "outputs": [
    {
     "name": "stdout",
     "output_type": "stream",
     "text": [
      "Argentina gano 4 titulos mundiales de futbol\n"
     ]
    }
   ],
   "source": [
    "print(pais,'gano',cantidad,'titulos mundiales de futbol')"
   ]
  },
  {
   "cell_type": "code",
   "execution_count": null,
   "metadata": {
    "colab": {
     "base_uri": "https://localhost:8080/"
    },
    "id": "3kgc1eocFHC1",
    "outputId": "c8f0331a-23f4-4a79-87df-db5f52f70a20"
   },
   "outputs": [
    {
     "data": {
      "text/plain": [
       "str"
      ]
     },
     "execution_count": 22,
     "metadata": {},
     "output_type": "execute_result"
    }
   ],
   "source": [
    "pais='Argentina'\n",
    "type(pais)"
   ]
  },
  {
   "cell_type": "code",
   "execution_count": null,
   "metadata": {
    "colab": {
     "base_uri": "https://localhost:8080/"
    },
    "id": "43SEW9YtFOEc",
    "outputId": "4d7c9b6f-1d4d-4769-b813-abd21f588b34"
   },
   "outputs": [
    {
     "data": {
      "text/plain": [
       "int"
      ]
     },
     "execution_count": 23,
     "metadata": {},
     "output_type": "execute_result"
    }
   ],
   "source": [
    "pasi='Bolivia'\n",
    "pais=644\n",
    "type(pais)"
   ]
  },
  {
   "cell_type": "code",
   "execution_count": null,
   "metadata": {
    "colab": {
     "base_uri": "https://localhost:8080/"
    },
    "id": "u90BmIAwGM47",
    "outputId": "3a2b742d-39f9-4013-8de4-87687fe3916a"
   },
   "outputs": [
    {
     "data": {
      "text/plain": [
       "float"
      ]
     },
     "execution_count": 24,
     "metadata": {},
     "output_type": "execute_result"
    }
   ],
   "source": [
    "pais=7.9\n",
    "type(pais)"
   ]
  },
  {
   "cell_type": "code",
   "execution_count": null,
   "metadata": {
    "id": "8RHqK5EFGSfk"
   },
   "outputs": [],
   "source": []
  },
  {
   "cell_type": "markdown",
   "metadata": {
    "id": "vtHtOMl8G1H2"
   },
   "source": [
    "#ADIVINANZA NUMERO"
   ]
  },
  {
   "cell_type": "code",
   "execution_count": null,
   "metadata": {
    "colab": {
     "base_uri": "https://localhost:8080/"
    },
    "id": "h9KH87LUHatT",
    "outputId": "426b1eee-0755-4ed9-9ea3-d35a2a762c59"
   },
   "outputs": [
    {
     "name": "stdout",
     "output_type": "stream",
     "text": [
      "=================================\n",
      "Bienvenido Al Juego de Adivinanza\n",
      "=================================\n",
      "Digite un Numero: 77\n",
      "Digitaste... 77\n",
      "Lo siento ... no lograste adivinar el numero\n",
      "Fin del juego\n"
     ]
    }
   ],
   "source": [
    "print('=================================')\n",
    "print('Bienvenido Al Juego de Adivinanza')\n",
    "print('=================================')\n",
    "\n",
    "numero_secreto=77\n",
    "\n",
    "entrada= input('Digite un Numero: ')\n",
    "\n",
    "print('Digitaste...', entrada)\n",
    "\n",
    "if(entrada==numero_secreto):\n",
    "  print('Felicitaciones !!! ... adivinaste el numero')\n",
    "else:\n",
    "  print('Lo siento ... no lograste adivinar el numero')\n",
    "\n",
    "print('Fin del juego')"
   ]
  },
  {
   "cell_type": "code",
   "execution_count": null,
   "metadata": {
    "colab": {
     "base_uri": "https://localhost:8080/"
    },
    "id": "x5q1vY2DJ8o9",
    "outputId": "2735ad47-a46b-4d11-eded-9c505832741c"
   },
   "outputs": [
    {
     "data": {
      "text/plain": [
       "int"
      ]
     },
     "execution_count": 26,
     "metadata": {},
     "output_type": "execute_result"
    }
   ],
   "source": [
    "#Comparando si las entradas son del mismo tipo\n",
    "type(numero_secreto)"
   ]
  },
  {
   "cell_type": "code",
   "execution_count": null,
   "metadata": {
    "colab": {
     "base_uri": "https://localhost:8080/"
    },
    "id": "r4wP37-dJ_dU",
    "outputId": "de5c6eb5-4f33-4fae-8f84-53bfeb9f916e"
   },
   "outputs": [
    {
     "data": {
      "text/plain": [
       "str"
      ]
     },
     "execution_count": 27,
     "metadata": {},
     "output_type": "execute_result"
    }
   ],
   "source": [
    "type(entrada)"
   ]
  },
  {
   "cell_type": "code",
   "execution_count": null,
   "metadata": {
    "id": "g4YeMDozKB7l"
   },
   "outputs": [],
   "source": []
  },
  {
   "cell_type": "markdown",
   "metadata": {
    "id": "C8Kxxh7NKR5l"
   },
   "source": [
    "##CORRECCION"
   ]
  },
  {
   "cell_type": "code",
   "execution_count": null,
   "metadata": {
    "colab": {
     "base_uri": "https://localhost:8080/"
    },
    "id": "yzcnTCUtKUDD",
    "outputId": "7f4e0df2-a615-428f-9db2-f39cfde56226"
   },
   "outputs": [
    {
     "name": "stdout",
     "output_type": "stream",
     "text": [
      "=================================\n",
      "Bienvenido Al Juego de Adivinanza\n",
      "=================================\n",
      "Digite un Numero: 77\n",
      "Digitaste... 77\n",
      "Felicitaciones !!! ... adivinaste el numero\n",
      "Fin del juego\n"
     ]
    }
   ],
   "source": [
    "print('=================================')\n",
    "print('Bienvenido Al Juego de Adivinanza')\n",
    "print('=================================')\n",
    "\n",
    "numero_secreto=77\n",
    "\n",
    "entrada= int(input('Digite un Numero: '))\n",
    "\n",
    "print('Digitaste...', entrada)\n",
    "\n",
    "if(entrada==numero_secreto):\n",
    "  print('Felicitaciones !!! ... adivinaste el numero')\n",
    "else:\n",
    "  print('Lo siento ... no lograste adivinar el numero')\n",
    "\n",
    "print('Fin del juego')"
   ]
  },
  {
   "cell_type": "markdown",
   "metadata": {
    "id": "SQNBMdprLDtd"
   },
   "source": [
    "#Guiar al usuario si el numero ingresado fue mayor o menor al numero que se tiene que adivinar"
   ]
  },
  {
   "cell_type": "code",
   "execution_count": null,
   "metadata": {
    "colab": {
     "base_uri": "https://localhost:8080/"
    },
    "id": "DeZlMqtlLO58",
    "outputId": "43fad0da-2a8f-49df-c5cf-41a23caa87e7"
   },
   "outputs": [
    {
     "name": "stdout",
     "output_type": "stream",
     "text": [
      "=================================\n",
      "Bienvenido Al Juego de Adivinanza\n",
      "=================================\n",
      "Digite un Numero: 77\n",
      "Digitaste... 77\n",
      "Felicitaciones !!! ... adivinaste el numero\n",
      "Fin del juego\n"
     ]
    }
   ],
   "source": [
    "print('=================================')\n",
    "print('Bienvenido Al Juego de Adivinanza')\n",
    "print('=================================')\n",
    "\n",
    "numero_secreto=77\n",
    "\n",
    "entrada= input('Digite un Numero: ')\n",
    "entrada= int(entrada)\n",
    "\n",
    "print('Digitaste...', entrada)\n",
    "\n",
    "acertaste=entrada==numero_secreto #iguales\n",
    "mayor = entrada > numero_secreto #entrada es MAYOR\n",
    "menor = entrada < numero_secreto #entrada es MENOR\n",
    "\n",
    "\n",
    "if(acertaste):\n",
    "  print('Felicitaciones !!! ... adivinaste el numero')\n",
    "elif(mayor):\n",
    "  print('Lo siento ... el numero que ingresaste es mayor que el numero secreto')\n",
    "else:\n",
    "  print('Lo siento ... el numero que ingresaste es menor que el numero secreto')\n",
    "\n",
    "print('Fin del juego')"
   ]
  },
  {
   "cell_type": "markdown",
   "metadata": {
    "id": "eh2FM1JZPJzm"
   },
   "source": [
    "#IMPLEMENTAR ITERACIONES"
   ]
  },
  {
   "cell_type": "code",
   "execution_count": null,
   "metadata": {
    "colab": {
     "base_uri": "https://localhost:8080/"
    },
    "id": "63Pjn9ETPNzz",
    "outputId": "a593763a-4541-40e3-a1b6-97bbf0a9b65d"
   },
   "outputs": [
    {
     "name": "stdout",
     "output_type": "stream",
     "text": [
      "=================================\n",
      "Bienvenido Al Juego de Adivinanza\n",
      "=================================\n",
      "Intento:  1  de  3\n",
      "Digite un Numero: 23\n",
      "Digitaste... 23\n",
      "Lo siento ... el numero que ingresaste es menor que el numero secreto\n",
      "Intento:  2  de  3\n",
      "Digite un Numero: 43\n",
      "Digitaste... 43\n",
      "Lo siento ... el numero que ingresaste es menor que el numero secreto\n",
      "Intento:  3  de  3\n",
      "Digite un Numero: 35\n",
      "Digitaste... 35\n",
      "Lo siento ... el numero que ingresaste es menor que el numero secreto\n",
      "Fin del juego\n"
     ]
    }
   ],
   "source": [
    "print('=================================')\n",
    "print('Bienvenido Al Juego de Adivinanza')\n",
    "print('=================================')\n",
    "\n",
    "numero_secreto=77\n",
    "total_intentos = 3\n",
    "iteracion = 1\n",
    "\n",
    "while(iteracion<=total_intentos):\n",
    "  print('Intento: ',iteracion, ' de ',total_intentos)\n",
    "  entrada= input('Digite un Numero: ')\n",
    "  entrada= int(entrada)\n",
    "  print('Digitaste...', entrada)\n",
    "\n",
    "  acertaste = entrada == numero_secreto #iguales\n",
    "  mayor = entrada > numero_secreto #entrada es MAYOR\n",
    "  menor = entrada < numero_secreto #entrada es MENOR\n",
    "\n",
    "\n",
    "  if(acertaste):\n",
    "    print('Felicitaciones !!! ... adivinaste el numero')\n",
    "  elif(mayor):\n",
    "    print('Lo siento ... el numero que ingresaste es mayor que el numero secreto')\n",
    "  else:\n",
    "    print('Lo siento ... el numero que ingresaste es menor que el numero secreto')\n",
    "\n",
    "  iteracion = iteracion+1\n",
    "\n",
    "print('Fin del juego')"
   ]
  },
  {
   "cell_type": "markdown",
   "metadata": {
    "id": "ZaMtRUNqScFe"
   },
   "source": [
    "#MEJORANDO AUN EL CODIGO ... FORMATEANDO LOS string"
   ]
  },
  {
   "cell_type": "code",
   "execution_count": null,
   "metadata": {
    "colab": {
     "base_uri": "https://localhost:8080/"
    },
    "id": "HKxlHkDJSmd8",
    "outputId": "5858a252-0771-4d52-db8e-da4e30f79bf2"
   },
   "outputs": [
    {
     "name": "stdout",
     "output_type": "stream",
     "text": [
      "=================================\n",
      "Bienvenido Al Juego de Adivinanza\n",
      "=================================\n",
      "Intento: 1 de 3 \n",
      "Digite un Numero: 50\n",
      "Digitaste... 50\n",
      "Lo siento ... el numero que ingresaste es menor que el numero secreto\n",
      "Intento: 2 de 3 \n",
      "Digite un Numero: 75\n",
      "Digitaste... 75\n",
      "Lo siento ... el numero que ingresaste es menor que el numero secreto\n",
      "Intento: 3 de 3 \n",
      "Digite un Numero: 89\n",
      "Digitaste... 89\n",
      "Lo siento ... el numero que ingresaste es mayor que el numero secreto\n",
      "Fin del juego\n"
     ]
    }
   ],
   "source": [
    "print('=================================')\n",
    "print('Bienvenido Al Juego de Adivinanza')\n",
    "print('=================================')\n",
    "\n",
    "numero_secreto=77\n",
    "total_intentos = 3\n",
    "iteracion = 1\n",
    "\n",
    "while(iteracion<=total_intentos):\n",
    "  print('Intento: {} de {} '.format(iteracion,total_intentos))\n",
    "  entrada= input('Digite un Numero: ')\n",
    "  entrada= int(entrada)\n",
    "  print('Digitaste...', entrada)\n",
    "\n",
    "  acertaste = entrada == numero_secreto #iguales\n",
    "  mayor = entrada > numero_secreto #entrada es MAYOR\n",
    "  menor = entrada < numero_secreto #entrada es MENOR\n",
    "\n",
    "\n",
    "  if(acertaste):\n",
    "    print('Felicitaciones !!! ... adivinaste el numero')\n",
    "  elif(mayor):\n",
    "    print('Lo siento ... el numero que ingresaste es mayor que el numero secreto')\n",
    "  else:\n",
    "    print('Lo siento ... el numero que ingresaste es menor que el numero secreto')\n",
    "\n",
    "  iteracion = iteracion+1\n",
    "\n",
    "print('Fin del juego')"
   ]
  },
  {
   "cell_type": "markdown",
   "metadata": {
    "id": "GZUT1EQrTwLA"
   },
   "source": [
    "#UTILIZANDO OTRO SENTENCIA PARA LOOPS ... for i range(n1,n2,n3) Y CONTROLAR QUE EL NUMERO INGRESADO SEA POSITIVO"
   ]
  },
  {
   "cell_type": "code",
   "execution_count": null,
   "metadata": {
    "colab": {
     "base_uri": "https://localhost:8080/"
    },
    "id": "11NzDzw5UECV",
    "outputId": "4cd38895-7e3a-42f3-92ba-a888021fd814"
   },
   "outputs": [
    {
     "name": "stdout",
     "output_type": "stream",
     "text": [
      "=================================\n",
      "Bienvenido Al Juego de Adivinanza\n",
      "=================================\n",
      "Intento: 1 de 3 \n",
      "Digite un Numero: 123\n",
      "Digitaste... 123\n",
      "Ingresa un numero entre 1 y 100\n",
      "Intento: 2 de 3 \n",
      "Digite un Numero: 223\n",
      "Digitaste... 223\n",
      "Ingresa un numero entre 1 y 100\n",
      "Intento: 3 de 3 \n",
      "Digite un Numero: 23\n",
      "Digitaste... 23\n",
      "Lo siento ... el numero que ingresaste es menor que el numero secreto\n",
      "Fin del juego\n"
     ]
    }
   ],
   "source": [
    "print('=================================')\n",
    "print('Bienvenido Al Juego de Adivinanza')\n",
    "print('=================================')\n",
    "\n",
    "numero_secreto=77\n",
    "total_intentos = 3\n",
    "\n",
    "for iteracion in range(1,total_intentos+1):\n",
    "  print('Intento: {} de {} '.format(iteracion,total_intentos))\n",
    "  entrada= input('Digite un Numero: ')\n",
    "  entrada= int(entrada)\n",
    "  print('Digitaste...', entrada)\n",
    "  if(entrada<1 or entrada>100):\n",
    "    print('Ingresa un numero entre 1 y 100')\n",
    "    continue\n",
    "\n",
    "  acertaste = entrada == numero_secreto #iguales\n",
    "  mayor = entrada > numero_secreto #entrada es MAYOR\n",
    "  menor = entrada < numero_secreto #entrada es MENOR\n",
    "\n",
    "\n",
    "  if(acertaste):\n",
    "    print('Felicitaciones !!! ... adivinaste el numero')\n",
    "  elif(mayor):\n",
    "    print('Lo siento ... el numero que ingresaste es mayor que el numero secreto')\n",
    "  else:\n",
    "    print('Lo siento ... el numero que ingresaste es menor que el numero secreto')\n",
    "\n",
    "  iteracion = iteracion+1\n",
    "\n",
    "print('Fin del juego')"
   ]
  },
  {
   "cell_type": "markdown",
   "metadata": {
    "id": "kBrS2xccWF1k"
   },
   "source": [
    "#Generar un numero aleatorio ... RANDOM"
   ]
  },
  {
   "cell_type": "code",
   "execution_count": null,
   "metadata": {
    "colab": {
     "base_uri": "https://localhost:8080/"
    },
    "id": "TC8aqK8YWL47",
    "outputId": "74226806-61e4-4cb3-f63a-f3d63e671e04"
   },
   "outputs": [
    {
     "data": {
      "text/plain": [
       "0.7628467241158663"
      ]
     },
     "execution_count": 40,
     "metadata": {},
     "output_type": "execute_result"
    }
   ],
   "source": [
    "# Generar numero RAMDOM\n",
    "import random\n",
    "random.random()"
   ]
  },
  {
   "cell_type": "code",
   "execution_count": null,
   "metadata": {
    "colab": {
     "base_uri": "https://localhost:8080/"
    },
    "id": "BX3JNAsSWe20",
    "outputId": "f8929a70-9bf7-4f52-bc74-ecaaa9fec16a"
   },
   "outputs": [
    {
     "data": {
      "text/plain": [
       "0.23692619297669892"
      ]
     },
     "execution_count": 41,
     "metadata": {},
     "output_type": "execute_result"
    }
   ],
   "source": [
    "random.random()"
   ]
  },
  {
   "cell_type": "code",
   "execution_count": null,
   "metadata": {
    "colab": {
     "base_uri": "https://localhost:8080/"
    },
    "id": "0qmQP1KMWzsM",
    "outputId": "015fc6bb-5cde-493d-d0f9-5aa689e072de"
   },
   "outputs": [
    {
     "data": {
      "text/plain": [
       "86.97812900873693"
      ]
     },
     "execution_count": 42,
     "metadata": {},
     "output_type": "execute_result"
    }
   ],
   "source": [
    "# Generar un numero RANDOM entre 1 y 100\n",
    "numero_random = random.random()*100\n",
    "numero_random"
   ]
  },
  {
   "cell_type": "code",
   "execution_count": null,
   "metadata": {
    "colab": {
     "base_uri": "https://localhost:8080/"
    },
    "id": "NGwkfe5bXJkk",
    "outputId": "c6e7b7ef-65e1-4eca-9fdf-c53c0cc8767f"
   },
   "outputs": [
    {
     "data": {
      "text/plain": [
       "81"
      ]
     },
     "execution_count": 43,
     "metadata": {},
     "output_type": "execute_result"
    }
   ],
   "source": [
    "#Generar un numero RANDOM entre 0 y 100\n",
    "numero_random = round(random.random()*100)\n",
    "numero_random"
   ]
  },
  {
   "cell_type": "markdown",
   "metadata": {
    "id": "Hwt2RfH5Xdgv"
   },
   "source": [
    "#Generar un numero entre 1 y 100 ..."
   ]
  },
  {
   "cell_type": "code",
   "execution_count": null,
   "metadata": {
    "colab": {
     "base_uri": "https://localhost:8080/"
    },
    "id": "RAhKKdCVXjpr",
    "outputId": "d7434cd5-949a-4bed-aced-435bbb002122"
   },
   "outputs": [
    {
     "data": {
      "text/plain": [
       "74"
      ]
     },
     "execution_count": 54,
     "metadata": {},
     "output_type": "execute_result"
    }
   ],
   "source": [
    "#Generar un numero entre 1 y 100\n",
    "numero_random = random.randrange(1,101)\n",
    "numero_random"
   ]
  },
  {
   "cell_type": "markdown",
   "metadata": {
    "id": "D_afgvGrYIop"
   },
   "source": [
    "#Mejorando el codigo, generando el NUMERO SECRETO de manera aleatoria , tenemos ..."
   ]
  },
  {
   "cell_type": "code",
   "execution_count": null,
   "metadata": {
    "colab": {
     "base_uri": "https://localhost:8080/"
    },
    "id": "L37BzkXNYbud",
    "outputId": "9e534e2b-6f9d-4ed1-a0bd-22edd880fdaf"
   },
   "outputs": [
    {
     "name": "stdout",
     "output_type": "stream",
     "text": [
      "=================================\n",
      "Bienvenido Al Juego de Adivinanza\n",
      "=================================\n",
      "numero secreto =  38\n",
      "Intento: 1 de 15 \n",
      "Digite un Numero: 223\n",
      "Digitaste... 223\n",
      "Ingresa un numero entre 1 y 100\n",
      "Intento: 2 de 15 \n",
      "Digite un Numero: 23\n",
      "Digitaste... 23\n",
      "Lo siento ... el numero que ingresaste es menor que el numero secreto\n",
      "Intento: 3 de 15 \n",
      "Digite un Numero: 12\n",
      "Digitaste... 12\n",
      "Lo siento ... el numero que ingresaste es menor que el numero secreto\n",
      "Intento: 4 de 15 \n",
      "Digite un Numero: 45\n",
      "Digitaste... 45\n",
      "Lo siento ... el numero que ingresaste es mayor que el numero secreto\n",
      "Intento: 5 de 15 \n",
      "Digite un Numero: 78\n",
      "Digitaste... 78\n",
      "Lo siento ... el numero que ingresaste es mayor que el numero secreto\n",
      "Intento: 6 de 15 \n",
      "Digite un Numero: 56\n",
      "Digitaste... 56\n",
      "Lo siento ... el numero que ingresaste es mayor que el numero secreto\n",
      "Intento: 7 de 15 \n",
      "Digite un Numero: 34\n",
      "Digitaste... 34\n",
      "Lo siento ... el numero que ingresaste es menor que el numero secreto\n",
      "Intento: 8 de 15 \n",
      "Digite un Numero: 89\n",
      "Digitaste... 89\n",
      "Lo siento ... el numero que ingresaste es mayor que el numero secreto\n",
      "Intento: 9 de 15 \n",
      "Digite un Numero: 87\n",
      "Digitaste... 87\n",
      "Lo siento ... el numero que ingresaste es mayor que el numero secreto\n",
      "Intento: 10 de 15 \n",
      "Digite un Numero: 45\n",
      "Digitaste... 45\n",
      "Lo siento ... el numero que ingresaste es mayor que el numero secreto\n",
      "Intento: 11 de 15 \n",
      "Digite un Numero: 67\n",
      "Digitaste... 67\n",
      "Lo siento ... el numero que ingresaste es mayor que el numero secreto\n",
      "Intento: 12 de 15 \n",
      "Digite un Numero: 54\n",
      "Digitaste... 54\n",
      "Lo siento ... el numero que ingresaste es mayor que el numero secreto\n",
      "Intento: 13 de 15 \n",
      "Digite un Numero: 46\n",
      "Digitaste... 46\n",
      "Lo siento ... el numero que ingresaste es mayor que el numero secreto\n",
      "Intento: 14 de 15 \n",
      "Digite un Numero: 34\n",
      "Digitaste... 34\n",
      "Lo siento ... el numero que ingresaste es menor que el numero secreto\n",
      "Intento: 15 de 15 \n",
      "Digite un Numero: 43\n",
      "Digitaste... 43\n",
      "Lo siento ... el numero que ingresaste es mayor que el numero secreto\n",
      "Fin del juego\n"
     ]
    }
   ],
   "source": [
    "import random\n",
    "print('=================================')\n",
    "print('Bienvenido Al Juego de Adivinanza')\n",
    "print('=================================')\n",
    "\n",
    "numero_secreto=random.randrange(1,101)\n",
    "\n",
    "print('numero secreto = ', numero_secreto)\n",
    "\n",
    "total_intentos = 15\n",
    "\n",
    "for iteracion in range(1,total_intentos+1):\n",
    "  print('Intento: {} de {} '.format(iteracion,total_intentos))\n",
    "  entrada= input('Digite un Numero: ')\n",
    "  entrada= int(entrada)\n",
    "  print('Digitaste...', entrada)\n",
    "  if(entrada<1 or entrada>100):\n",
    "    print('Ingresa un numero entre 1 y 100')\n",
    "    continue\n",
    "\n",
    "  acertaste = entrada == numero_secreto #iguales\n",
    "  mayor = entrada > numero_secreto #entrada es MAYOR\n",
    "  menor = entrada < numero_secreto #entrada es MENOR\n",
    "\n",
    "\n",
    "  if(acertaste):\n",
    "    print('Felicitaciones !!! ... adivinaste el numero')\n",
    "  elif(mayor):\n",
    "    print('Lo siento ... el numero que ingresaste es mayor que el numero secreto')\n",
    "  else:\n",
    "    print('Lo siento ... el numero que ingresaste es menor que el numero secreto')\n",
    "\n",
    "  iteracion = iteracion+1\n",
    "\n",
    "print('Fin del juego')"
   ]
  },
  {
   "cell_type": "markdown",
   "metadata": {
    "id": "Q03R_FVLav8t"
   },
   "source": [
    "#Definiendo el nivel de dificultad...."
   ]
  },
  {
   "cell_type": "code",
   "execution_count": 1,
   "metadata": {
    "colab": {
     "base_uri": "https://localhost:8080/"
    },
    "id": "nlAQjXTSa1Bp",
    "outputId": "feb13749-3b9b-433e-98ff-a4aaae6e84d5"
   },
   "outputs": [
    {
     "name": "stdout",
     "output_type": "stream",
     "text": [
      "=================================\n",
      "Bienvenido Al Juego de Adivinanza\n",
      "=================================\n",
      "Seleccione el nivel de dificultad\n",
      "(1) Facil (2) Medio (3) Dificil\n",
      "Ingrese nivel de dificultad: 3\n",
      "Intento: 1 de 5 \n",
      "Digite un Numero: 45\n",
      "Digitaste... 45\n",
      "Lo siento ... el numero que ingresaste es menor que el numero secreto\n",
      "Intento: 2 de 5 \n",
      "Digite un Numero: 75\n",
      "Digitaste... 75\n",
      "Lo siento ... el numero que ingresaste es menor que el numero secreto\n",
      "Intento: 3 de 5 \n",
      "Digite un Numero: 90\n",
      "Digitaste... 90\n",
      "Lo siento ... el numero que ingresaste es mayor que el numero secreto\n",
      "Intento: 4 de 5 \n",
      "Digite un Numero: 85\n",
      "Digitaste... 85\n",
      "Lo siento ... el numero que ingresaste es mayor que el numero secreto\n",
      "Intento: 5 de 5 \n",
      "Digite un Numero: 87\n",
      "Digitaste... 87\n",
      "Lo siento ... el numero que ingresaste es mayor que el numero secreto\n",
      "Fin del juego\n"
     ]
    }
   ],
   "source": [
    "import random\n",
    "print('=================================')\n",
    "print('Bienvenido Al Juego de Adivinanza')\n",
    "print('=================================')\n",
    "\n",
    "numero_secreto=random.randrange(1,101)\n",
    "\n",
    "print('Seleccione el nivel de dificultad')\n",
    "print('(1) Facil (2) Medio (3) Dificil')\n",
    "\n",
    "nivel = int(input('Ingrese nivel de dificultad: '))\n",
    "\n",
    "if(nivel==1):\n",
    "  total_intentos = 20\n",
    "elif(nivel==2):\n",
    "  total_intentos = 10\n",
    "else:\n",
    "  total_intentos = 5\n",
    "\n",
    "\n",
    "for iteracion in range(1,total_intentos+1):\n",
    "  print('Intento: {} de {} '.format(iteracion,total_intentos))\n",
    "  entrada= input('Digite un Numero: ')\n",
    "  entrada= int(entrada)\n",
    "  print('Digitaste...', entrada)\n",
    "  if(entrada<1 or entrada>100):\n",
    "    print('Ingresa un numero entre 1 y 100')\n",
    "    continue\n",
    "\n",
    "  acertaste = entrada == numero_secreto #iguales\n",
    "  mayor = entrada > numero_secreto #entrada es MAYOR\n",
    "  menor = entrada < numero_secreto #entrada es MENOR\n",
    "\n",
    "\n",
    "  if(acertaste):\n",
    "    print('Felicitaciones !!! ... adivinaste el numero')\n",
    "  elif(mayor):\n",
    "    print('Lo siento ... el numero que ingresaste es mayor que el numero secreto')\n",
    "  else:\n",
    "    print('Lo siento ... el numero que ingresaste es menor que el numero secreto')\n",
    "\n",
    "  iteracion = iteracion+1\n",
    "\n",
    "print('Fin del juego')"
   ]
  },
  {
   "cell_type": "code",
   "execution_count": null,
   "metadata": {},
   "outputs": [],
   "source": []
  }
 ],
 "metadata": {
  "colab": {
   "provenance": []
  },
  "kernelspec": {
   "display_name": "Python 3 (ipykernel)",
   "language": "python",
   "name": "python3"
  },
  "language_info": {
   "codemirror_mode": {
    "name": "ipython",
    "version": 3
   },
   "file_extension": ".py",
   "mimetype": "text/x-python",
   "name": "python",
   "nbconvert_exporter": "python",
   "pygments_lexer": "ipython3",
   "version": "3.9.13"
  }
 },
 "nbformat": 4,
 "nbformat_minor": 1
}
