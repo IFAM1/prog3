{
 "cells": [
  {
   "cell_type": "code",
   "execution_count": 1,
   "id": "6d1c33ce",
   "metadata": {},
   "outputs": [
    {
     "name": "stdout",
     "output_type": "stream",
     "text": [
      "Ingrese su nombre:Isai\n",
      "Ingrese su edad:21\n",
      "Mi nombre es:Isai y tengo: 21 años\n"
     ]
    }
   ],
   "source": [
    "nombre= input('Ingrese su nombre:')\n",
    "edad= input('Ingrese su edad:')\n",
    "\n",
    "print(f'Mi nombre es:{nombre} y tengo: {edad} años')"
   ]
  },
  {
   "cell_type": "code",
   "execution_count": 3,
   "id": "c1632a19",
   "metadata": {},
   "outputs": [
    {
     "name": "stdout",
     "output_type": "stream",
     "text": [
      "P\n",
      "a\n",
      "t\n",
      "i\n",
      "t\n",
      "o\n",
      " \n",
      "f\n",
      "e\n",
      "o\n"
     ]
    }
   ],
   "source": [
    "cadena = \"Patito feo\"\n",
    "for elemento in cadena:\n",
    "    print(elemento)"
   ]
  },
  {
   "cell_type": "code",
   "execution_count": null,
   "id": "a8286e4f",
   "metadata": {},
   "outputs": [],
   "source": []
  }
 ],
 "metadata": {
  "kernelspec": {
   "display_name": "Python 3 (ipykernel)",
   "language": "python",
   "name": "python3"
  },
  "language_info": {
   "codemirror_mode": {
    "name": "ipython",
    "version": 3
   },
   "file_extension": ".py",
   "mimetype": "text/x-python",
   "name": "python",
   "nbconvert_exporter": "python",
   "pygments_lexer": "ipython3",
   "version": "3.9.13"
  }
 },
 "nbformat": 4,
 "nbformat_minor": 5
}
