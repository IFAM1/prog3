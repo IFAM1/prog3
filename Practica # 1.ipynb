{
 "cells": [
  {
   "cell_type": "code",
   "execution_count": null,
   "id": "6d1c33ce",
   "metadata": {},
   "outputs": [],
   "source": [
    "nombre= input('Ingrese su nombre:')\n",
    "edad= input('Ingrese su edad:')\n",
    "\n",
    "print(f'Mi nombre es:{nombre} y tengo: {edad} años')"
   ]
  },
  {
   "cell_type": "code",
   "execution_count": null,
   "id": "da850859",
   "metadata": {},
   "outputs": [],
   "source": []
  }
 ],
 "metadata": {
  "kernelspec": {
   "display_name": "Python 3 (ipykernel)",
   "language": "python",
   "name": "python3"
  },
  "language_info": {
   "codemirror_mode": {
    "name": "ipython",
    "version": 3
   },
   "file_extension": ".py",
   "mimetype": "text/x-python",
   "name": "python",
   "nbconvert_exporter": "python",
   "pygments_lexer": "ipython3",
   "version": "3.9.13"
  }
 },
 "nbformat": 4,
 "nbformat_minor": 5
}
